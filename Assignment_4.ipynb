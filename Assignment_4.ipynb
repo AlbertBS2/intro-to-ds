{
 "cells": [
  {
   "cell_type": "markdown",
   "id": "e9959f48",
   "metadata": {
    "deletable": false
   },
   "source": [
    "\n",
    "# Assignment 4 for Course 1MS041\n",
    "Make sure you pass the `# ... Test` cells and\n",
    " submit your solution notebook in the corresponding assignment on the course website. You can submit multiple times before the deadline and your highest score will be used."
   ]
  },
  {
   "cell_type": "markdown",
   "id": "b63d8b71",
   "metadata": {
    "deletable": false,
    "lx_assignment_number": "4",
    "lx_assignment_type": "ASSIGNMENT",
    "lx_assignment_type2print": "Assignment",
    "lx_problem_cell_type": "PROBLEM",
    "lx_problem_number": "1",
    "lx_problem_points": "24"
   },
   "source": [
    "---\n",
    "## Assignment 4, PROBLEM 1\n",
    "Maximum Points = 24"
   ]
  },
  {
   "cell_type": "markdown",
   "id": "04e1585d",
   "metadata": {
    "deletable": false,
    "lx_assignment_number": "4",
    "lx_assignment_type": "ASSIGNMENT",
    "lx_assignment_type2print": "Assignment",
    "lx_problem_cell_type": "PROBLEM",
    "lx_problem_number": "1",
    "lx_problem_points": "24"
   },
   "source": [
    "\n",
    "    This time the assignment only consists of one problem, but we will do a more comprehensive analysis instead.\n",
    "\n",
    "Consider the dataset `Corona_NLP_train.csv` that you can get from the course website [git](https://github.com/datascience-intro/1MS041-2024/blob/main/notebooks/data/Corona_NLP_train.csv). The data is \"Coronavirus tweets NLP - Text Classification\" that can be found on [kaggle](https://www.kaggle.com/datasets/datatattle/covid-19-nlp-text-classification). The data has several columns, but we will only be working with `OriginalTweet`and `Sentiment`.\n",
    "\n",
    "1. [3p] Load the data and filter out those tweets that have `Sentiment`=`Neutral`. Let $X$ represent the `OriginalTweet` and let \n",
    "    $$\n",
    "        Y = \n",
    "        \\begin{cases}\n",
    "        1 & \\text{if sentiment is towards positive}\n",
    "        \\\\\n",
    "        0 & \\text{if sentiment is towards negative}.\n",
    "        \\end{cases}\n",
    "    $$\n",
    "    Put the resulting arrays into the variables $X$ and $Y$. Split the data into three parts, train/test/validation where train is 60% of the data, test is 15% and validation is 25% of the data. Do not do this randomly, this is to make sure that we all did the same splits (we are in this case assuming the data is IID as presented in the dataset). That is [train,test,validation] is the splitting layout.\n",
    "\n",
    "2. [4p] There are many ways to solve this classification problem. The first main issue to resolve is to convert the $X$ variable to something that you can feed into a machine learning model. For instance, you can first use [`CountVectorizer`](https://scikit-learn.org/1.5/modules/generated/sklearn.feature_extraction.text.CountVectorizer.html) as the first step. The step that comes after should be a `LogisticRegression` model, but for this to work you need to put together the `CountVectorizer` and the `LogisticRegression` model into a [`Pipeline`](https://scikit-learn.org/1.5/modules/generated/sklearn.pipeline.Pipeline.html#sklearn.pipeline.Pipeline). Fill in the variable `model` such that it accepts the raw text as input and outputs a number $0$ or $1$, make sure that `model.predict_proba` works for this. **Hint: You might need to play with the parameters of LogisticRegression to get convergence, make sure that it doesn't take too long or the autograder might kill your code**\n",
    "3. [3p] Use your trained model and calculate the precision and recall on both classes. Fill in the corresponding variables with the answer.\n",
    "4. [3p] Let us now define a cost function\n",
    "    * A positive tweet that is classified as negative will have a cost of 1\n",
    "    * A negative tweet that is classified as positive will have a cost of 5\n",
    "    * Correct classifications cost 0\n",
    "    \n",
    "    complete filling the function `cost` to compute the cost of a prediction model under a certain prediction threshold (recall our precision recall lecture and the `predict_proba` function from trained models). \n",
    "\n",
    "5. [4p] Now, we wish to select the threshold of our classifier that minimizes the cost, fill in the selected threshold value in value `optimal_threshold`.\n",
    "6. [4p] With your newly computed threshold value, compute the cost of putting this model in production by computing the cost using the validation data. Also provide a confidence interval of the cost using Hoeffdings inequality with a 99% confidence.\n",
    "7. [3p] Let $t$ be the threshold you found and $f$ the model you fitted (one of the outputs of `predict_proba`), if we define the random variable\n",
    "    $$\n",
    "        C = (1-1_{f(X)\\geq t})Y+5(1-Y)1_{f(X) \\geq t}\n",
    "    $$\n",
    "    then $C$ denotes the cost of a randomly chosen tweet. In the previous step we estimated $\\mathbb{E}[C]$ using the empirical mean. However, since the threshold is chosen to minimize cost it is likely that $C=0$ or $C=1$ than $C=5$ as such it will have a low variance. Compute the empirical variance of $C$ on the validation set. What would be the confidence interval if we used Bennett's inequality instead of Hoeffding in point 6 but with the computed empirical variance as our guess for the variance?"
   ]
  },
  {
   "cell_type": "code",
   "execution_count": 1,
   "id": "49e6fa33",
   "metadata": {
    "deletable": false,
    "lx_assignment_number": "4",
    "lx_assignment_type": "ASSIGNMENT",
    "lx_assignment_type2print": "Assignment",
    "lx_problem_cell_type": "PROBLEM",
    "lx_problem_number": "1",
    "lx_problem_points": "24"
   },
   "outputs": [],
   "source": [
    "\n",
    "# Part 1\n",
    "\n",
    "# Load the data from the file specified in the problem definition and make sure that it is loaded using\n",
    "# the search path `data/Corona_NLP_train.csv`. This is to make sure the autograder and your computer have the same\n",
    "# file path and can load the data correctly.\n",
    "\n",
    "# Contrary to how many other problems are structured, this problem actually requires you to\n",
    "# have X on the shape (n_samples, ) that is a 1-dimensional array. Otherwise it will cause a bunch\n",
    "# of errors in the autograder or also in for instance CountVectorizer.\n",
    "\n",
    "# Make sure that all your data is numpy arrays and not pandas dataframes or series.\n",
    "\n",
    "import pandas as pd\n",
    "import numpy as np\n",
    "\n",
    "# Load the data\n",
    "data = pd.read_csv('data/Corona_NLP_train.csv', encoding=\"ISO-8859-1\")\n",
    "\n",
    "# Filter out tweets with Sentiment = Neutral\n",
    "data = data[data['Sentiment'] != 'Neutral']\n",
    "\n",
    "# Split into X and Y\n",
    "X = np.array(data['OriginalTweet'])\n",
    "Y = np.where((data['Sentiment'] == 'Positive') | (data['Sentiment'] == 'Extremely Positive'), 1, 0)\n",
    "\n",
    "# Split into train (0.6), test (0.15), and validation (0.25) sets without randomizing\n",
    "n_samples = len(X)\n",
    "train_end = int(n_samples * 0.6)\n",
    "test_end = train_end + int(n_samples * 0.15)\n",
    "\n",
    "X_train, X_test, X_valid = X[:train_end], X[train_end:test_end], X[test_end:]\n",
    "Y_train, Y_test, Y_valid = Y[:train_end], Y[train_end:test_end], Y[test_end:]"
   ]
  },
  {
   "cell_type": "code",
   "execution_count": 2,
   "id": "078fe203",
   "metadata": {
    "deletable": false,
    "lx_assignment_number": "4",
    "lx_assignment_type": "ASSIGNMENT",
    "lx_assignment_type2print": "Assignment",
    "lx_problem_cell_type": "PROBLEM",
    "lx_problem_number": "1",
    "lx_problem_points": "24"
   },
   "outputs": [
    {
     "data": {
      "text/html": [
       "<style>#sk-container-id-1 {color: black;background-color: white;}#sk-container-id-1 pre{padding: 0;}#sk-container-id-1 div.sk-toggleable {background-color: white;}#sk-container-id-1 label.sk-toggleable__label {cursor: pointer;display: block;width: 100%;margin-bottom: 0;padding: 0.3em;box-sizing: border-box;text-align: center;}#sk-container-id-1 label.sk-toggleable__label-arrow:before {content: \"▸\";float: left;margin-right: 0.25em;color: #696969;}#sk-container-id-1 label.sk-toggleable__label-arrow:hover:before {color: black;}#sk-container-id-1 div.sk-estimator:hover label.sk-toggleable__label-arrow:before {color: black;}#sk-container-id-1 div.sk-toggleable__content {max-height: 0;max-width: 0;overflow: hidden;text-align: left;background-color: #f0f8ff;}#sk-container-id-1 div.sk-toggleable__content pre {margin: 0.2em;color: black;border-radius: 0.25em;background-color: #f0f8ff;}#sk-container-id-1 input.sk-toggleable__control:checked~div.sk-toggleable__content {max-height: 200px;max-width: 100%;overflow: auto;}#sk-container-id-1 input.sk-toggleable__control:checked~label.sk-toggleable__label-arrow:before {content: \"▾\";}#sk-container-id-1 div.sk-estimator input.sk-toggleable__control:checked~label.sk-toggleable__label {background-color: #d4ebff;}#sk-container-id-1 div.sk-label input.sk-toggleable__control:checked~label.sk-toggleable__label {background-color: #d4ebff;}#sk-container-id-1 input.sk-hidden--visually {border: 0;clip: rect(1px 1px 1px 1px);clip: rect(1px, 1px, 1px, 1px);height: 1px;margin: -1px;overflow: hidden;padding: 0;position: absolute;width: 1px;}#sk-container-id-1 div.sk-estimator {font-family: monospace;background-color: #f0f8ff;border: 1px dotted black;border-radius: 0.25em;box-sizing: border-box;margin-bottom: 0.5em;}#sk-container-id-1 div.sk-estimator:hover {background-color: #d4ebff;}#sk-container-id-1 div.sk-parallel-item::after {content: \"\";width: 100%;border-bottom: 1px solid gray;flex-grow: 1;}#sk-container-id-1 div.sk-label:hover label.sk-toggleable__label {background-color: #d4ebff;}#sk-container-id-1 div.sk-serial::before {content: \"\";position: absolute;border-left: 1px solid gray;box-sizing: border-box;top: 0;bottom: 0;left: 50%;z-index: 0;}#sk-container-id-1 div.sk-serial {display: flex;flex-direction: column;align-items: center;background-color: white;padding-right: 0.2em;padding-left: 0.2em;position: relative;}#sk-container-id-1 div.sk-item {position: relative;z-index: 1;}#sk-container-id-1 div.sk-parallel {display: flex;align-items: stretch;justify-content: center;background-color: white;position: relative;}#sk-container-id-1 div.sk-item::before, #sk-container-id-1 div.sk-parallel-item::before {content: \"\";position: absolute;border-left: 1px solid gray;box-sizing: border-box;top: 0;bottom: 0;left: 50%;z-index: -1;}#sk-container-id-1 div.sk-parallel-item {display: flex;flex-direction: column;z-index: 1;position: relative;background-color: white;}#sk-container-id-1 div.sk-parallel-item:first-child::after {align-self: flex-end;width: 50%;}#sk-container-id-1 div.sk-parallel-item:last-child::after {align-self: flex-start;width: 50%;}#sk-container-id-1 div.sk-parallel-item:only-child::after {width: 0;}#sk-container-id-1 div.sk-dashed-wrapped {border: 1px dashed gray;margin: 0 0.4em 0.5em 0.4em;box-sizing: border-box;padding-bottom: 0.4em;background-color: white;}#sk-container-id-1 div.sk-label label {font-family: monospace;font-weight: bold;display: inline-block;line-height: 1.2em;}#sk-container-id-1 div.sk-label-container {text-align: center;}#sk-container-id-1 div.sk-container {/* jupyter's `normalize.less` sets `[hidden] { display: none; }` but bootstrap.min.css set `[hidden] { display: none !important; }` so we also need the `!important` here to be able to override the default hidden behavior on the sphinx rendered scikit-learn.org. See: https://github.com/scikit-learn/scikit-learn/issues/21755 */display: inline-block !important;position: relative;}#sk-container-id-1 div.sk-text-repr-fallback {display: none;}</style><div id=\"sk-container-id-1\" class=\"sk-top-container\"><div class=\"sk-text-repr-fallback\"><pre>Pipeline(steps=[(&#x27;vectorizer&#x27;, CountVectorizer()),\n",
       "                (&#x27;model&#x27;, LogisticRegression(max_iter=5000))])</pre><b>In a Jupyter environment, please rerun this cell to show the HTML representation or trust the notebook. <br />On GitHub, the HTML representation is unable to render, please try loading this page with nbviewer.org.</b></div><div class=\"sk-container\" hidden><div class=\"sk-item sk-dashed-wrapped\"><div class=\"sk-label-container\"><div class=\"sk-label sk-toggleable\"><input class=\"sk-toggleable__control sk-hidden--visually\" id=\"sk-estimator-id-1\" type=\"checkbox\" ><label for=\"sk-estimator-id-1\" class=\"sk-toggleable__label sk-toggleable__label-arrow\">Pipeline</label><div class=\"sk-toggleable__content\"><pre>Pipeline(steps=[(&#x27;vectorizer&#x27;, CountVectorizer()),\n",
       "                (&#x27;model&#x27;, LogisticRegression(max_iter=5000))])</pre></div></div></div><div class=\"sk-serial\"><div class=\"sk-item\"><div class=\"sk-estimator sk-toggleable\"><input class=\"sk-toggleable__control sk-hidden--visually\" id=\"sk-estimator-id-2\" type=\"checkbox\" ><label for=\"sk-estimator-id-2\" class=\"sk-toggleable__label sk-toggleable__label-arrow\">CountVectorizer</label><div class=\"sk-toggleable__content\"><pre>CountVectorizer()</pre></div></div></div><div class=\"sk-item\"><div class=\"sk-estimator sk-toggleable\"><input class=\"sk-toggleable__control sk-hidden--visually\" id=\"sk-estimator-id-3\" type=\"checkbox\" ><label for=\"sk-estimator-id-3\" class=\"sk-toggleable__label sk-toggleable__label-arrow\">LogisticRegression</label><div class=\"sk-toggleable__content\"><pre>LogisticRegression(max_iter=5000)</pre></div></div></div></div></div></div></div>"
      ],
      "text/plain": [
       "Pipeline(steps=[('vectorizer', CountVectorizer()),\n",
       "                ('model', LogisticRegression(max_iter=5000))])"
      ]
     },
     "execution_count": 2,
     "metadata": {},
     "output_type": "execute_result"
    }
   ],
   "source": [
    "\n",
    "# Part 2\n",
    "\n",
    "# Train a machine learning model or pipeline that can take the raw strings from X and predict Y=0,1 depending on the\n",
    "# sentiment of the tweet. Store the trained model in the variable `model`.\n",
    "\n",
    "from sklearn.feature_extraction.text import CountVectorizer\n",
    "from sklearn.pipeline import Pipeline\n",
    "from sklearn.linear_model import LogisticRegression\n",
    "\n",
    "\n",
    "model = Pipeline([('vectorizer', CountVectorizer()), ('model', LogisticRegression(max_iter=5000))])\n",
    "model.fit(X_train, Y_train)"
   ]
  },
  {
   "cell_type": "code",
   "execution_count": 3,
   "id": "ec6fd1d4",
   "metadata": {
    "deletable": false,
    "lx_assignment_number": "4",
    "lx_assignment_type": "ASSIGNMENT",
    "lx_assignment_type2print": "Assignment",
    "lx_problem_cell_type": "PROBLEM",
    "lx_problem_number": "1",
    "lx_problem_points": "24"
   },
   "outputs": [],
   "source": [
    "\n",
    "# Part 3\n",
    "\n",
    "# Evaluate the model on the test set and calculate precision, and recall on both classes. Store the results in the\n",
    "# variables `precision_0`, `precision_1`, `recall_0`, `recall_1`.\n",
    "\n",
    "from sklearn.metrics import precision_score, recall_score\n",
    "\n",
    "Y_pred = model.predict(X_test)\n",
    "\n",
    "precision_0 = precision_score(Y_test, Y_pred, pos_label=0)\n",
    "precision_1 = precision_score(Y_test, Y_pred, pos_label=1)\n",
    "recall_0 = recall_score(Y_test, Y_pred, pos_label=0)\n",
    "recall_1 = recall_score(Y_test, Y_pred, pos_label=1)"
   ]
  },
  {
   "cell_type": "code",
   "execution_count": 4,
   "id": "10698374",
   "metadata": {
    "deletable": false,
    "lx_assignment_number": "4",
    "lx_assignment_type": "ASSIGNMENT",
    "lx_assignment_type2print": "Assignment",
    "lx_problem_cell_type": "PROBLEM",
    "lx_problem_number": "1",
    "lx_problem_points": "24"
   },
   "outputs": [],
   "source": [
    "\n",
    "# Part 4\n",
    "\n",
    "def cost(model,threshold,X,Y):\n",
    "    # Hint, make sure that the model has a predict_proba method\n",
    "    # think about how the decision is made based on the probabilities\n",
    "    # and how the threshold can be used to make the decision.\n",
    "    # For reference take a look at the lecture notes \"Bayes classifier\"\n",
    "    # which contains how the decision is made based on the probabilities when the threshold is 0.5.\n",
    "    \n",
    "    # Fill in what is missing to compute the cost and return it\n",
    "    # Note that we are interested in average cost\n",
    "\n",
    "    # Get predicted probabilities\n",
    "    y_proba = model.predict_proba(X)\n",
    "\n",
    "    # Get predictions based on threshold\n",
    "    y_pred = np.where(y_proba[:, 1] > float(threshold), 1, 0)\n",
    "\n",
    "    #cost = 0\n",
    "\n",
    "    # Iterate through predictions and true labels\n",
    "    #for i in range(0, y_pred):\n",
    "        # Check for misclassification\n",
    "    #    if y_pred[i] != Y[i]:\n",
    "            # Positive tweet classified as negative\n",
    "    #        if Y[i] == 1:\n",
    "    #            cost += 1\n",
    "            # Negative tweet classified as positive\n",
    "    #        elif Y[i] == 0:\n",
    "    #            cost += 5\n",
    "\n",
    "    # Cost of positive tweets classified as negative (FN)\n",
    "    cost_fn = np.sum((Y == 1) & (y_pred != 1)) * 1\n",
    "\n",
    "    # Cost of negative tweets classified as positive (FP)\n",
    "    cost_fp = np.sum((Y == 0) & (y_pred != 0)) * 5\n",
    "\n",
    "    # Average cost\n",
    "    avg_cost = (cost_fn + cost_fp) / len(Y)\n",
    "    \n",
    "    return avg_cost"
   ]
  },
  {
   "cell_type": "code",
   "execution_count": 5,
   "id": "b21963ec",
   "metadata": {
    "deletable": false,
    "lx_assignment_number": "4",
    "lx_assignment_type": "ASSIGNMENT",
    "lx_assignment_type2print": "Assignment",
    "lx_problem_cell_type": "PROBLEM",
    "lx_problem_number": "1",
    "lx_problem_points": "24"
   },
   "outputs": [],
   "source": [
    "\n",
    "# Part 5\n",
    "\n",
    "# Find the optimal threshold for the model on the test set. Store the threshold in the variable `optimal_threshold`\n",
    "# and the cost at the optimal threshold in the variable `cost_at_optimal_threshold` evaluated on the test set.\n",
    "\n",
    "costs = {}\n",
    "for threshold in np.arange(0.1, 1, 0.1):\n",
    "    c = cost(model, threshold, X_test, Y_test)\n",
    "    costs[threshold] = c\n",
    "\n",
    "optimal_threshold = float(min(costs, key=costs.get))\n",
    "cost_at_optimal_threshold = float(min(costs.values()))"
   ]
  },
  {
   "cell_type": "code",
   "execution_count": 6,
   "id": "79a1c5e6",
   "metadata": {
    "deletable": false,
    "lx_assignment_number": "4",
    "lx_assignment_type": "ASSIGNMENT",
    "lx_assignment_type2print": "Assignment",
    "lx_problem_cell_type": "PROBLEM",
    "lx_problem_number": "1",
    "lx_problem_points": "24"
   },
   "outputs": [],
   "source": [
    "\n",
    "# Part 6\n",
    "\n",
    "cost_at_optimal_threshold_valid = cost(model, optimal_threshold, X_valid, Y_valid)\n",
    "\n",
    "# Bounds for the random variable (cost per sample)\n",
    "a = 0\n",
    "b = 5\n",
    "\n",
    "# Delta for the given confidence interval\n",
    "delta = 1 - 0.99\n",
    "\n",
    "# Hoeffding's epsilon\n",
    "epsilon = np.sqrt(((b - a)**2 * np.log(2/delta)) / (2 * len(Y_valid)))\n",
    "\n",
    "# Confidence interval\n",
    "l_bound = cost_at_optimal_threshold_valid - epsilon\n",
    "u_bound = cost_at_optimal_threshold_valid + epsilon\n",
    "\n",
    "cost_interval_valid = (l_bound, u_bound)\n",
    "\n",
    "assert(type(cost_interval_valid) == tuple)\n",
    "assert(len(cost_interval_valid) == 2)"
   ]
  },
  {
   "cell_type": "code",
   "execution_count": 7,
   "id": "e3bc0760",
   "metadata": {
    "deletable": false,
    "lx_assignment_number": "4",
    "lx_assignment_type": "ASSIGNMENT",
    "lx_assignment_type2print": "Assignment",
    "lx_problem_cell_type": "PROBLEM",
    "lx_problem_number": "1",
    "lx_problem_points": "24"
   },
   "outputs": [],
   "source": [
    "\n",
    "# Part 7\n",
    "\n",
    "# Values of C for the validation set\n",
    "y_proba_valid = model.predict_proba(X_valid)\n",
    "y_pred_valid = np.where(y_proba_valid[:, 1] >= optimal_threshold, 1, 0)\n",
    "\n",
    "C_values = (1 - (y_proba_valid[:, 1] >= optimal_threshold)) * Y_valid + 5 * (1 - Y_valid) * (y_proba_valid[:, 1] >= optimal_threshold)\n",
    "\n",
    "# Empirical mean and variance of C\n",
    "mean_C = np.mean(C_values)\n",
    "variance_of_C = np.var(C_values)\n",
    "\n",
    "# Bennett's inequality parameters\n",
    "n_valid = len(Y_valid)\n",
    "a = 0\n",
    "b = 5\n",
    "delta = 1 - 0.99\n",
    "\n",
    "# Compute epsilon using Bennett's inequality\n",
    "epsilon = np.sqrt((2 * variance_of_C * np.log(2/delta)) / n_valid) + ((b - a) * np.log(2/delta)) / (3 * n_valid)\n",
    "\n",
    "# Confidence interval\n",
    "l_bound = mean_C - epsilon\n",
    "u_bound = mean_C + epsilon\n",
    "\n",
    "interval_of_C = (l_bound, u_bound)\n",
    "\n",
    "assert(type(interval_of_C) == tuple)\n",
    "assert(len(interval_of_C) == 2)"
   ]
  }
 ],
 "metadata": {
  "kernelspec": {
   "display_name": "Python 3",
   "language": "python",
   "name": "python3"
  },
  "language_info": {
   "codemirror_mode": {
    "name": "ipython",
    "version": 3
   },
   "file_extension": ".py",
   "mimetype": "text/x-python",
   "name": "python",
   "nbconvert_exporter": "python",
   "pygments_lexer": "ipython3",
   "version": "3.11.2"
  },
  "lx_assignment_number": 4,
  "lx_course_instance": "2024",
  "lx_course_name": "Introduction to Data Science",
  "lx_course_number": "1MS041"
 },
 "nbformat": 4,
 "nbformat_minor": 5
}
