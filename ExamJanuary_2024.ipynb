{
 "cells": [
  {
   "cell_type": "markdown",
   "metadata": {},
   "source": [
    "## Exam vB, PROBLEM 1"
   ]
  },
  {
   "cell_type": "markdown",
   "metadata": {},
   "source": [
    "### Part 1"
   ]
  },
  {
   "cell_type": "code",
   "execution_count": 1,
   "metadata": {},
   "outputs": [],
   "source": [
    "import numpy as np\n",
    "\n",
    "def f_x(x):\n",
    "    \"\"\"\n",
    "    PDF f(x) as defined by the problem.\n",
    "    \"\"\"\n",
    "    if x <= 0 or x >= 1:\n",
    "        return 0\n",
    "    return (2 * x * np.exp(x**2 - 1)) / np.exp(-1)\n",
    "\n",
    "def problem1_inversion(n_samples=1):\n",
    "    \"\"\"\n",
    "    Use rejection sampling to generate samples from the given distribution.\n",
    "\n",
    "    Parameters:\n",
    "    n_samples (int): Number of samples to generate.\n",
    "\n",
    "    Returns:\n",
    "    np.ndarray: Array of samples.\n",
    "    \"\"\"\n",
    "    samples = []\n",
    "    c = 2  # Chosen constant to satisfy c * g(x) >= f(x) for all x in [0, 1]\n",
    "\n",
    "    while len(samples) < n_samples:\n",
    "        # Step 1: Sample from proposal distribution g(x) (uniform on [0, 1])\n",
    "        x_candidate = np.random.uniform(0, 1)\n",
    "        \n",
    "        # Step 2: Sample u from Uniform[0, 1] for acceptance check\n",
    "        u = np.random.uniform(0, 1)\n",
    "\n",
    "        # Step 3: Accept or reject\n",
    "        if u <= f_x(x_candidate) / c:\n",
    "            samples.append(x_candidate)\n",
    "\n",
    "    return np.array(samples)"
   ]
  },
  {
   "cell_type": "markdown",
   "metadata": {},
   "source": [
    "### Part 2"
   ]
  },
  {
   "cell_type": "code",
   "execution_count": 2,
   "metadata": {},
   "outputs": [
    {
     "data": {
      "image/png": "[encoded data removed]",
      "text/plain": [
       "<Figure size 640x480 with 1 Axes>"
      ]
     },
     "metadata": {},
     "output_type": "display_data"
    }
   ],
   "source": [
    "# Part 2: Generate 100,000 samples and plot histogram\n",
    "import matplotlib.pyplot as plt\n",
    "\n",
    "problem1_samples = problem1_inversion(n_samples=100000)\n",
    "\n",
    "# Plot histogram of samples\n",
    "plt.hist(problem1_samples, bins=50, density=True, alpha=0.6, color='g', label='Sampled Distribution')\n",
    "\n",
    "# Plot true density\n",
    "x = np.linspace(0, 1, 1000)\n",
    "y = [f_x(xi) for xi in x]\n",
    "plt.plot(x, y, 'r-', label='True Density')\n",
    "\n",
    "plt.title(\"Rejection Sampling: Histogram vs True Density\")\n",
    "plt.xlabel(\"x\")\n",
    "plt.ylabel(\"Density\")\n",
    "plt.legend()\n",
    "plt.show()"
   ]
  },
  {
   "cell_type": "markdown",
   "metadata": {},
   "source": [
    "### Part 3"
   ]
  },
  {
   "cell_type": "code",
   "execution_count": 3,
   "metadata": {},
   "outputs": [
    {
     "name": "stdout",
     "output_type": "stream",
     "text": [
      "Approximate value of the integral: 2.5030227744122566\n"
     ]
    }
   ],
   "source": [
    "# Part 3: Compute the integral using the generated samples\n",
    "def integrand(x):\n",
    "    return np.sin(x) * (2 * np.exp(x**2) / np.exp(-1))\n",
    "\n",
    "weights = [integrand(xi) / f_x(xi) if f_x(xi) > 0 else 0 for xi in problem1_samples]\n",
    "problem1_integral = np.mean(weights)\n",
    "\n",
    "print(f\"Approximate value of the integral: {problem1_integral}\")"
   ]
  },
  {
   "cell_type": "markdown",
   "metadata": {},
   "source": [
    "### Part 4"
   ]
  },
  {
   "cell_type": "code",
   "execution_count": 4,
   "metadata": {},
   "outputs": [
    {
     "name": "stdout",
     "output_type": "stream",
     "text": [
      "Approximate value of the integral: 2.5030227744122566\n",
      "95% confidence interval: (2.5011721057843035, 2.5048734430402098)\n"
     ]
    }
   ],
   "source": [
    "# Part 4: Compute 95% confidence interval using Hoeffding's inequality\n",
    "a, b = min(weights), max(weights)  # Determine bounds for weights\n",
    "epsilon = (b - a) * np.sqrt(np.log(2 / 0.05) / (2 * len(problem1_samples)))\n",
    "problem1_interval = (problem1_integral - epsilon, problem1_integral + epsilon)\n",
    "\n",
    "print(f\"Approximate value of the integral: {problem1_integral}\")\n",
    "print(f\"95% confidence interval: {problem1_interval}\")"
   ]
  },
  {
   "cell_type": "markdown",
   "metadata": {},
   "source": [
    "### Part 5"
   ]
  },
  {
   "cell_type": "code",
   "execution_count": 5,
   "metadata": {},
   "outputs": [],
   "source": [
    "def problem1_inversion_2(n_samples=1):\n",
    "    \"\"\"\n",
    "    Use rejection sampling to generate samples from the given distribution.\n",
    "\n",
    "    F[x] =\n",
    "    0, x <= 0\n",
    "    20x * e^(20 - 1/x), 0 < x < 1/20\n",
    "    1, x >= 1/20\n",
    "\n",
    "    Parameters:\n",
    "    n_samples (int): Number of samples to generate.\n",
    "\n",
    "    Returns:\n",
    "    np.ndarray: Array of samples.\n",
    "    \"\"\"\n",
    "    def target_pdf(x):\n",
    "        if x <= 0 or x >= 1 / 20:\n",
    "            return 0\n",
    "        return 20 * x * np.exp(20 - 1 / x)\n",
    "\n",
    "    # Proposal distribution: exponential with lambda = 20 (adjusted for efficiency)\n",
    "    def proposal_pdf(x):\n",
    "        return 20 * np.exp(-20 * x) if x > 0 else 0\n",
    "\n",
    "    def sample_proposal():\n",
    "        return np.random.exponential(1 / 20)\n",
    "\n",
    "    samples = []\n",
    "    c = 10  # Chosen constant to satisfy c * g(x) >= f(x) for all x in (0, 1/20)\n",
    "\n",
    "    while len(samples) < n_samples:\n",
    "        # Step 1: Sample from the proposal distribution\n",
    "        x_candidate = sample_proposal()\n",
    "\n",
    "        # Reject if out of bounds\n",
    "        if x_candidate >= 1 / 20:\n",
    "            continue\n",
    "\n",
    "        # Step 2: Sample u from Uniform[0, 1] for acceptance check\n",
    "        u = np.random.uniform(0, 1)\n",
    "\n",
    "        # Step 3: Accept or reject\n",
    "        if u <= target_pdf(x_candidate) / (c * proposal_pdf(x_candidate)):\n",
    "            samples.append(x_candidate)\n",
    "\n",
    "    return np.array(samples)\n"
   ]
  }
 ],
 "metadata": {
  "kernelspec": {
   "display_name": "Python 3",
   "language": "python",
   "name": "python3"
  },
  "language_info": {
   "codemirror_mode": {
    "name": "ipython",
    "version": 3
   },
   "file_extension": ".py",
   "mimetype": "text/x-python",
   "name": "python",
   "nbconvert_exporter": "python",
   "pygments_lexer": "ipython3",
   "version": "3.11.2"
  }
 },
 "nbformat": 4,
 "nbformat_minor": 2
}
