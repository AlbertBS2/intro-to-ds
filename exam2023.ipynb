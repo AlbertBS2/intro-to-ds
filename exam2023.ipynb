{
 "cells": [
  {
   "cell_type": "markdown",
   "id": "e3fcf1c7",
   "metadata": {
    "deletable": false,
    "lx_assignment_number": "vB",
    "lx_assignment_type": "EXAM",
    "lx_assignment_type2print": "Exam",
    "lx_problem_cell_type": "PROBLEM",
    "lx_problem_number": "1",
    "lx_problem_points": "14"
   },
   "source": [
    "---\n",
    "## Exam vB, PROBLEM 1\n",
    "Maximum Points = 14"
   ]
  },
  {
   "attachments": {},
   "cell_type": "markdown",
   "id": "140af589",
   "metadata": {
    "deletable": false,
    "lx_assignment_number": "vB",
    "lx_assignment_type": "EXAM",
    "lx_assignment_type2print": "Exam",
    "lx_problem_cell_type": "PROBLEM",
    "lx_problem_number": "1",
    "lx_problem_points": "14"
   },
   "source": [
    "A courier company operates a fleet of delivery trucks that make deliveries to different parts of the city. The trucks are equipped with GPS tracking devices that record the location of each truck at regular intervals. The locations are divided into three regions: downtown, the suburbs, and the countryside. The following table shows the probabilities of a truck transitioning between these regions at each time step:\n",
    "\n",
    "| Current region | Probability of transitioning to downtown | Probability of transitioning to the suburbs | Probability of transitioning to the countryside |\n",
    "|----------------|--------------------------------------------|-----------------------------------------------|------------------------------------------------|\n",
    "| Downtown       | 0.3                                      | 0.4                                           | 0.3                                            |\n",
    "| Suburbs        | 0.2                                      | 0.5                                           | 0.3                                            |\n",
    "| Countryside    | 0.4                                      | 0.3                                           | 0.3                                            |\n",
    "\n",
    "1. If a truck is currently in the suburbs, what is the probability that it will be in the downtown region after two time steps? [2p]\n",
    "2. If a truck is currently in the suburbs, what is the probability that it will be in the downtown region **the first time** after two time steps? [2p]\n",
    "3. Is this Markov chain irreducible? Explain your answer. [3p]\n",
    "4. What is the stationary distribution? [3p]\n",
    "5. Advanced question: What is the expected number of steps until the first time one enters the suburbs region having started in the downtown region. Hint: to get within 1 decimal point, it is enough to compute the probabilities for hitting times below 30. Motivate your answer in detail [4p]. You could also solve this question by simulation, but this gives you a maximum of [2p].\n",
    "\n"
   ]
  },
  {
   "cell_type": "code",
   "execution_count": null,
   "id": "510f5fc8",
   "metadata": {
    "deletable": false,
    "lx_assignment_number": "vB",
    "lx_assignment_type": "EXAM",
    "lx_assignment_type2print": "Exam",
    "lx_problem_cell_type": "PROBLEM",
    "lx_problem_number": "1",
    "lx_problem_points": "14"
   },
   "outputs": [],
   "source": [
    "# Part 1\n",
    "import numpy as np\n",
    "\n",
    "# define prob matrix\n",
    "p_matr = np.matrix([[0.3, 0.4, 0.3],\n",
    "                   [0.2, 0.5, 0.3],\n",
    "                   [0.4, 0.3, 0.3]])\n",
    "\n",
    "\n",
    "# Fill in the answer to part 1 below\n",
    "problem1_p1 = ''\n"
   ]
  },
  {
   "cell_type": "code",
   "execution_count": null,
   "id": "9a8ca879",
   "metadata": {
    "deletable": false,
    "lx_assignment_number": "vB",
    "lx_assignment_type": "EXAM",
    "lx_assignment_type2print": "Exam",
    "lx_problem_cell_type": "PROBLEM",
    "lx_problem_number": "1",
    "lx_problem_points": "14"
   },
   "outputs": [],
   "source": [
    "# Part 2\n",
    "\n",
    "# Fill in the answer to part 2 below\n",
    "problem1_p2 = ''"
   ]
  },
  {
   "cell_type": "code",
   "execution_count": 249,
   "id": "d4468088",
   "metadata": {
    "deletable": false,
    "lx_assignment_number": "vB",
    "lx_assignment_type": "EXAM",
    "lx_assignment_type2print": "Exam",
    "lx_problem_cell_type": "PROBLEM",
    "lx_problem_number": "1",
    "lx_problem_points": "14"
   },
   "outputs": [],
   "source": [
    "# Part 3\n",
    "\n",
    "# Fill in the answer to part 3 below as a boolean\n",
    "problem1_irreducible = True"
   ]
  },
  {
   "attachments": {},
   "cell_type": "markdown",
   "id": "edf617c3",
   "metadata": {
    "deletable": false,
    "lx_assignment_number": "vB",
    "lx_assignment_type": "EXAM",
    "lx_assignment_type2print": "Exam",
    "lx_problem_cell_type": "PROBLEM",
    "lx_problem_number": "1",
    "lx_problem_points": "14"
   },
   "source": [
    "\n",
    "## Part 3\n",
    "\n",
    "Double click this cell to enter edit mode and write your answer for part 3 below this line.\n"
   ]
  },
  {
   "cell_type": "code",
   "execution_count": 313,
   "id": "1404e5f5",
   "metadata": {
    "deletable": false,
    "lx_assignment_number": "vB",
    "lx_assignment_type": "EXAM",
    "lx_assignment_type2print": "Exam",
    "lx_problem_cell_type": "PROBLEM",
    "lx_problem_number": "1",
    "lx_problem_points": "14"
   },
   "outputs": [
    {
     "data": {
      "text/plain": [
       "matrix([[0.28888889],\n",
       "        [0.41111111],\n",
       "        [0.3       ]])"
      ]
     },
     "execution_count": 313,
     "metadata": {},
     "output_type": "execute_result"
    }
   ],
   "source": [
    "# Part 4\n",
    "\n",
    "# Fill in the answer to part 4 below\n",
    "\n",
    "def get_stationary_distribution(transition_matrix):\n",
    "\n",
    "    # transpose the matrix\n",
    "    transition_matrix_t = transition_matrix.T\n",
    "    # use linear algebra module of numpy to compute the eigenvalues\n",
    "    eigenvals, eigenvects = np.linalg.eig(transition_matrix_t)\n",
    "\n",
    "    # Find the indexes of the eigenvalues that are close to one.\n",
    "    close_to_1_idx = np.isclose(eigenvals,1) # isclose checks element-wise if each element is close to 1 within the specific tolerance\n",
    "    # Use them to select the target eigen vectors\n",
    "    target_eigenvect = eigenvects[:,close_to_1_idx]\n",
    "    #Flatten\n",
    "    target_eigenvect = target_eigenvect[:,0]\n",
    "    # Turn the eigenvector elements into probabilities\n",
    "    # that would be the stationary distribution\n",
    "    st_d = target_eigenvect / sum(target_eigenvect) \n",
    "    \n",
    "    real_st_distr = st_d.real\n",
    "    \n",
    "    ## check\n",
    "    if st_d.real.sum() != 1:\n",
    "        raise Exception(\"The probabilities don't sum to 1!\")\n",
    "        \n",
    "    return real_st_distr\n",
    "# the answer should be a numpy array of length 3\n",
    "# make sure that the entries sums to 1!\n",
    "problem1_stationary = get_stationary_distribution(p_matr)\n",
    "problem1_stationary"
   ]
  },
  {
   "attachments": {},
   "cell_type": "markdown",
   "id": "abb77a62",
   "metadata": {
    "deletable": false,
    "lx_assignment_number": "vB",
    "lx_assignment_type": "EXAM",
    "lx_assignment_type2print": "Exam",
    "lx_problem_cell_type": "PROBLEM",
    "lx_problem_number": "1",
    "lx_problem_points": "14"
   },
   "source": [
    "\n",
    "## Part 5\n",
    "\n",
    "Double click this cell to enter edit mode and write your answer for part 5 below this line.\n"
   ]
  },
  {
   "cell_type": "markdown",
   "id": "d3612800",
   "metadata": {
    "deletable": false,
    "lx_assignment_number": "vB",
    "lx_assignment_type": "EXAM",
    "lx_assignment_type2print": "Exam",
    "lx_problem_cell_type": "PROBLEM",
    "lx_problem_number": "2",
    "lx_problem_points": "13"
   },
   "source": [
    "---\n",
    "## Exam vB, PROBLEM 2\n",
    "Maximum Points = 13"
   ]
  },
  {
   "attachments": {},
   "cell_type": "markdown",
   "id": "006eb1b6",
   "metadata": {
    "deletable": false,
    "lx_assignment_number": "vB",
    "lx_assignment_type": "EXAM",
    "lx_assignment_type2print": "Exam",
    "lx_problem_cell_type": "PROBLEM",
    "lx_problem_number": "2",
    "lx_problem_points": "13"
   },
   "source": [
    "\n",
    "You are given the \"Abalone\" dataset found in `data/abalone.csv`, which contains physical measurements of abalone (a type of sea shells) and the age of the abalone measured in **rings** (the number of rings in the shell) [https://en.wikipedia.org/wiki/Abalone](https://en.wikipedia.org/wiki/Abalone). Your task is to train a `linear regression` model to predict the age (Rings) of an abalone based on its physical measurements.\n",
    "\n",
    "To evaluate your model, you will split the dataset into a training set and a testing set. You will use the training set to train your model, and the testing set to evaluate its performance.\n",
    "\n",
    "1. Load the data into a pandas dataframe `problem2_df`. Based on the column names, figure out what are the features and the target and fill in the answer in the correct cell below. [2p]\n",
    "2. Split the data into train and test. [2p]\n",
    "3. Train the model. [1p]\n",
    "4. On the test set, evaluate the model by computing the mean absolute error and plot the empirical distribution function of the residual with confidence bands (i.e. using the DKW inequality and 95% confidence). Hint: you can use the function `plotEDF,makeEDF` combo from `Utils.py` that we have used numerous times, which also contains the option to have confidence bands. [3p]\n",
    "5. Provide a scatter plot where the x-axis corresponds to the predicted value and the y-axis is the true value, do this over the test set. [2p]\n",
    "6. Reason about the performance, for instance, is the value of the mean absolute error good/bad and what do you think about the scatter plot in point 5? [3p]\n"
   ]
  },
  {
   "cell_type": "code",
   "execution_count": 1,
   "id": "67ad9ee5",
   "metadata": {
    "deletable": false,
    "lx_assignment_number": "vB",
    "lx_assignment_type": "EXAM",
    "lx_assignment_type2print": "Exam",
    "lx_problem_cell_type": "PROBLEM",
    "lx_problem_number": "2",
    "lx_problem_points": "13"
   },
   "outputs": [],
   "source": [
    "\n",
    "import pandas as pd\n",
    "\n",
    "import numpy as np\n",
    "\n",
    "from sklearn import datasets\n",
    "import sklearn.linear_model as sk\n",
    "from sklearn.svm import SVC\n",
    "from sklearn.tree import DecisionTreeClassifier\n",
    "from sklearn.discriminant_analysis import LinearDiscriminantAnalysis\n",
    "from sklearn.neighbors import KNeighborsClassifier as KNN\n",
    "from sklearn.ensemble import RandomForestClassifier\n",
    "from sklearn import preprocessing\n",
    "from matplotlib import pyplot as plt\n",
    "# Part 1\n",
    "# Let problem2_df be the pandas dataframe that contains the data from the file\n",
    "# data/abalone.csv\n",
    "problem2_df = pd.read_csv(\"abalone.csv\")"
   ]
  },
  {
   "cell_type": "code",
   "execution_count": 2,
   "id": "206119e6",
   "metadata": {},
   "outputs": [
    {
     "data": {
      "text/plain": [
       "Index(['Sex', 'Length', 'Diameter', 'Height', 'Whole weight', 'Shucked weight',\n",
       "       'Viscera weight', 'Shell weight', 'Rings'],\n",
       "      dtype='object')"
      ]
     },
     "execution_count": 2,
     "metadata": {},
     "output_type": "execute_result"
    }
   ],
   "source": [
    "problem2_df.columns"
   ]
  },
  {
   "cell_type": "code",
   "execution_count": 3,
   "id": "eff6e330",
   "metadata": {
    "deletable": false,
    "lx_assignment_number": "vB",
    "lx_assignment_type": "EXAM",
    "lx_assignment_type2print": "Exam",
    "lx_problem_cell_type": "PROBLEM",
    "lx_problem_number": "2",
    "lx_problem_points": "13"
   },
   "outputs": [],
   "source": [
    "# Part 1\n",
    "\n",
    "# Fill in the features as a list of strings of the names of the columns\n",
    "\n",
    "problem2_features = list(problem2_df.columns)\n",
    "\n",
    "problem2_target = 'Rings'\n",
    "\n",
    "problem2_features.remove('Rings')\n",
    "\n",
    "# Fill in the target as a string with the correct column name\n",
    "\n"
   ]
  },
  {
   "cell_type": "code",
   "execution_count": 4,
   "id": "7af5f5ad",
   "metadata": {},
   "outputs": [],
   "source": [
    "X = problem2_df[problem2_features]\n",
    "y = problem2_df[problem2_target]\n"
   ]
  },
  {
   "cell_type": "code",
   "execution_count": 5,
   "id": "2614db4e",
   "metadata": {
    "deletable": false,
    "lx_assignment_number": "vB",
    "lx_assignment_type": "EXAM",
    "lx_assignment_type2print": "Exam",
    "lx_problem_cell_type": "PROBLEM",
    "lx_problem_number": "2",
    "lx_problem_points": "13"
   },
   "outputs": [],
   "source": [
    "# Part 2\n",
    "from sklearn.model_selection import train_test_split\n",
    "\n",
    "\n",
    "# Split the data into train and test using train_test_split\n",
    "# keep the train size as 0.8 and use random_state=42\n",
    "\n",
    "\n",
    "problem2_X_train,problem2_X_test,problem2_y_train,problem2_y_test = train_test_split(X, y, test_size=0.2, random_state=42)"
   ]
  },
  {
   "cell_type": "code",
   "execution_count": 6,
   "id": "e2c1c0c9",
   "metadata": {},
   "outputs": [],
   "source": [
    "def one_hot_encode(problem2_X_train, problem2_X_test):\n",
    "\n",
    "\n",
    "    # Sex is categorical! Encode it\n",
    "    s = (problem2_X_train.dtypes== 'object')\n",
    "    object_cols = list(s[s].index)\n",
    "    object_cols\n",
    "\n",
    "    from sklearn.preprocessing import OneHotEncoder\n",
    "\n",
    "    # Apply one-hot encoder to each column with categorical data\n",
    "    ohe = OneHotEncoder(sparse_output=False)\n",
    "\n",
    "    # when applying fit_transform using OHE, it returns a numpy array. Remember to transform it into a data frame\n",
    "    OH_cols_train = pd.DataFrame(ohe.fit_transform(problem2_X_train[object_cols]))\n",
    "    OH_cols_test = pd.DataFrame(ohe.fit_transform(problem2_X_test[object_cols]))\n",
    "\n",
    "    # get the proper column names\n",
    "    OH_cols_train.columns = ohe.get_feature_names_out(object_cols)\n",
    "    OH_cols_test.columns = ohe.get_feature_names_out(object_cols)\n",
    "\n",
    "    # the indices were removed by OHE, put them back\n",
    "    OH_cols_train.index =problem2_X_train.index\n",
    "    OH_cols_test.index = problem2_X_test.index\n",
    "\n",
    "    # Remove categorical columns \n",
    "    num_X_train = problem2_X_train.drop(object_cols, axis=1)\n",
    "    num_X_test = problem2_X_test.drop(object_cols, axis=1)\n",
    "\n",
    "    # Concat the categorical and numerical features back together\n",
    "    problem2_X_train = pd.concat([num_X_train, OH_cols_train], axis=1)\n",
    "    problem2_X_test = pd.concat([num_X_test, OH_cols_test], axis=1)\n",
    "    \n",
    "    return problem2_X_train, problem2_X_test\n",
    "\n",
    "\n",
    "\n",
    "problem2_X_train,problem2_X_test = one_hot_encode(problem2_X_train,problem2_X_test)"
   ]
  },
  {
   "cell_type": "code",
   "execution_count": 7,
   "id": "10349b69",
   "metadata": {
    "deletable": false,
    "lx_assignment_number": "vB",
    "lx_assignment_type": "EXAM",
    "lx_assignment_type2print": "Exam",
    "lx_problem_cell_type": "PROBLEM",
    "lx_problem_number": "2",
    "lx_problem_points": "13"
   },
   "outputs": [
    {
     "name": "stderr",
     "output_type": "stream",
     "text": [
      "C:\\Users\\abarg\\AppData\\Roaming\\Python\\Python311\\site-packages\\sklearn\\linear_model\\_logistic.py:458: ConvergenceWarning: lbfgs failed to converge (status=1):\n",
      "STOP: TOTAL NO. of ITERATIONS REACHED LIMIT.\n",
      "\n",
      "Increase the number of iterations (max_iter) or scale the data as shown in:\n",
      "    https://scikit-learn.org/stable/modules/preprocessing.html\n",
      "Please also refer to the documentation for alternative solver options:\n",
      "    https://scikit-learn.org/stable/modules/linear_model.html#logistic-regression\n",
      "  n_iter_i = _check_optimize_result(\n"
     ]
    },
    {
     "data": {
      "text/html": [
       "<style>#sk-container-id-1 {color: black;background-color: white;}#sk-container-id-1 pre{padding: 0;}#sk-container-id-1 div.sk-toggleable {background-color: white;}#sk-container-id-1 label.sk-toggleable__label {cursor: pointer;display: block;width: 100%;margin-bottom: 0;padding: 0.3em;box-sizing: border-box;text-align: center;}#sk-container-id-1 label.sk-toggleable__label-arrow:before {content: \"▸\";float: left;margin-right: 0.25em;color: #696969;}#sk-container-id-1 label.sk-toggleable__label-arrow:hover:before {color: black;}#sk-container-id-1 div.sk-estimator:hover label.sk-toggleable__label-arrow:before {color: black;}#sk-container-id-1 div.sk-toggleable__content {max-height: 0;max-width: 0;overflow: hidden;text-align: left;background-color: #f0f8ff;}#sk-container-id-1 div.sk-toggleable__content pre {margin: 0.2em;color: black;border-radius: 0.25em;background-color: #f0f8ff;}#sk-container-id-1 input.sk-toggleable__control:checked~div.sk-toggleable__content {max-height: 200px;max-width: 100%;overflow: auto;}#sk-container-id-1 input.sk-toggleable__control:checked~label.sk-toggleable__label-arrow:before {content: \"▾\";}#sk-container-id-1 div.sk-estimator input.sk-toggleable__control:checked~label.sk-toggleable__label {background-color: #d4ebff;}#sk-container-id-1 div.sk-label input.sk-toggleable__control:checked~label.sk-toggleable__label {background-color: #d4ebff;}#sk-container-id-1 input.sk-hidden--visually {border: 0;clip: rect(1px 1px 1px 1px);clip: rect(1px, 1px, 1px, 1px);height: 1px;margin: -1px;overflow: hidden;padding: 0;position: absolute;width: 1px;}#sk-container-id-1 div.sk-estimator {font-family: monospace;background-color: #f0f8ff;border: 1px dotted black;border-radius: 0.25em;box-sizing: border-box;margin-bottom: 0.5em;}#sk-container-id-1 div.sk-estimator:hover {background-color: #d4ebff;}#sk-container-id-1 div.sk-parallel-item::after {content: \"\";width: 100%;border-bottom: 1px solid gray;flex-grow: 1;}#sk-container-id-1 div.sk-label:hover label.sk-toggleable__label {background-color: #d4ebff;}#sk-container-id-1 div.sk-serial::before {content: \"\";position: absolute;border-left: 1px solid gray;box-sizing: border-box;top: 0;bottom: 0;left: 50%;z-index: 0;}#sk-container-id-1 div.sk-serial {display: flex;flex-direction: column;align-items: center;background-color: white;padding-right: 0.2em;padding-left: 0.2em;position: relative;}#sk-container-id-1 div.sk-item {position: relative;z-index: 1;}#sk-container-id-1 div.sk-parallel {display: flex;align-items: stretch;justify-content: center;background-color: white;position: relative;}#sk-container-id-1 div.sk-item::before, #sk-container-id-1 div.sk-parallel-item::before {content: \"\";position: absolute;border-left: 1px solid gray;box-sizing: border-box;top: 0;bottom: 0;left: 50%;z-index: -1;}#sk-container-id-1 div.sk-parallel-item {display: flex;flex-direction: column;z-index: 1;position: relative;background-color: white;}#sk-container-id-1 div.sk-parallel-item:first-child::after {align-self: flex-end;width: 50%;}#sk-container-id-1 div.sk-parallel-item:last-child::after {align-self: flex-start;width: 50%;}#sk-container-id-1 div.sk-parallel-item:only-child::after {width: 0;}#sk-container-id-1 div.sk-dashed-wrapped {border: 1px dashed gray;margin: 0 0.4em 0.5em 0.4em;box-sizing: border-box;padding-bottom: 0.4em;background-color: white;}#sk-container-id-1 div.sk-label label {font-family: monospace;font-weight: bold;display: inline-block;line-height: 1.2em;}#sk-container-id-1 div.sk-label-container {text-align: center;}#sk-container-id-1 div.sk-container {/* jupyter's `normalize.less` sets `[hidden] { display: none; }` but bootstrap.min.css set `[hidden] { display: none !important; }` so we also need the `!important` here to be able to override the default hidden behavior on the sphinx rendered scikit-learn.org. See: https://github.com/scikit-learn/scikit-learn/issues/21755 */display: inline-block !important;position: relative;}#sk-container-id-1 div.sk-text-repr-fallback {display: none;}</style><div id=\"sk-container-id-1\" class=\"sk-top-container\"><div class=\"sk-text-repr-fallback\"><pre>LogisticRegression()</pre><b>In a Jupyter environment, please rerun this cell to show the HTML representation or trust the notebook. <br />On GitHub, the HTML representation is unable to render, please try loading this page with nbviewer.org.</b></div><div class=\"sk-container\" hidden><div class=\"sk-item\"><div class=\"sk-estimator sk-toggleable\"><input class=\"sk-toggleable__control sk-hidden--visually\" id=\"sk-estimator-id-1\" type=\"checkbox\" checked><label for=\"sk-estimator-id-1\" class=\"sk-toggleable__label sk-toggleable__label-arrow\">LogisticRegression</label><div class=\"sk-toggleable__content\"><pre>LogisticRegression()</pre></div></div></div></div></div>"
      ],
      "text/plain": [
       "LogisticRegression()"
      ]
     },
     "execution_count": 7,
     "metadata": {},
     "output_type": "execute_result"
    }
   ],
   "source": [
    "# Part 3\n",
    "\n",
    "# Include the necessary imports\n",
    "from sklearn.linear_model import LogisticRegression\n",
    "\n",
    "# Initialize your linear regression model\n",
    "problem2_model = LogisticRegression()\n",
    "\n",
    "# Train your model on the training data\n",
    "problem2_model.fit(problem2_X_train, problem2_y_train)"
   ]
  },
  {
   "cell_type": "code",
   "execution_count": 8,
   "id": "bfaf8286",
   "metadata": {
    "deletable": false,
    "lx_assignment_number": "vB",
    "lx_assignment_type": "EXAM",
    "lx_assignment_type2print": "Exam",
    "lx_problem_cell_type": "PROBLEM",
    "lx_problem_number": "2",
    "lx_problem_points": "13"
   },
   "outputs": [
    {
     "data": {
      "text/plain": [
       "1.757177033492823"
      ]
     },
     "execution_count": 8,
     "metadata": {},
     "output_type": "execute_result"
    }
   ],
   "source": [
    "# Part 4\n",
    "from sklearn.metrics import mean_absolute_error\n",
    "\n",
    "# Evaluate the model by computing the mean absolute error \n",
    "y_pred = problem2_model.predict(problem2_X_test)\n",
    "problem2_mae = mean_absolute_error(y_pred, problem2_y_test)\n",
    "problem2_mae"
   ]
  },
  {
   "cell_type": "code",
   "execution_count": 10,
   "id": "f247ee5e",
   "metadata": {
    "deletable": false,
    "lx_assignment_number": "vB",
    "lx_assignment_type": "EXAM",
    "lx_assignment_type2print": "Exam",
    "lx_problem_cell_type": "PROBLEM",
    "lx_problem_number": "2",
    "lx_problem_points": "13"
   },
   "outputs": [
    {
     "data": {
      "image/png": "[encoded data removed]",
      "text/plain": [
       "<Figure size 640x480 with 1 Axes>"
      ]
     },
     "metadata": {},
     "output_type": "display_data"
    }
   ],
   "source": [
    "# Part 4\n",
    "\n",
    "# Write the code to plot the empirical distribution function of the residual\n",
    "# with confidence bands with 95% confidence in this cell\n",
    "\n",
    "from Utils import makeEDF, plotEDF\n",
    "\n",
    "res = problem2_y_test - y_pred\n",
    "\n",
    "res_edf = makeEDF(res)\n",
    "\n",
    "plotEDF(res_edf, confidence_band=True)\n",
    "\n",
    "\n"
   ]
  },
  {
   "cell_type": "code",
   "execution_count": 11,
   "id": "ec76a549",
   "metadata": {
    "deletable": false,
    "lx_assignment_number": "vB",
    "lx_assignment_type": "EXAM",
    "lx_assignment_type2print": "Exam",
    "lx_problem_cell_type": "PROBLEM",
    "lx_problem_number": "2",
    "lx_problem_points": "13"
   },
   "outputs": [
    {
     "data": {
      "text/plain": [
       "<matplotlib.collections.PathCollection at 0x1abd5e9fc10>"
      ]
     },
     "execution_count": 11,
     "metadata": {},
     "output_type": "execute_result"
    },
    {
     "data": {
      "image/png": "[encoded data removed]",
      "text/plain": [
       "<Figure size 640x480 with 1 Axes>"
      ]
     },
     "metadata": {},
     "output_type": "display_data"
    }
   ],
   "source": [
    "# Part 5\n",
    "\n",
    "# Write the code below to produce the scatter plot for part 5\n",
    "plt.scatter(y_pred, problem2_y_test)\n",
    "\n"
   ]
  },
  {
   "cell_type": "code",
   "execution_count": 12,
   "id": "42e9c94f",
   "metadata": {},
   "outputs": [
    {
     "data": {
      "image/png": "[encoded data removed]",
      "text/plain": [
       "<Figure size 640x480 with 1 Axes>"
      ]
     },
     "metadata": {},
     "output_type": "display_data"
    }
   ],
   "source": [
    "x_vals = np.arange(0, len(y_pred))\n",
    "plt.scatter(x_vals, problem2_y_test, label = 'True')\n",
    "plt.scatter(x_vals, y_pred, label = 'Predicted')\n",
    "plt.title('Predicted VS true')\n",
    "plt.legend()\n",
    "plt.show()"
   ]
  },
  {
   "cell_type": "markdown",
   "id": "0f81cb13",
   "metadata": {
    "deletable": false,
    "lx_assignment_number": "vB",
    "lx_assignment_type": "EXAM",
    "lx_assignment_type2print": "Exam",
    "lx_problem_cell_type": "PROBLEM",
    "lx_problem_number": "3",
    "lx_problem_points": "13"
   },
   "source": [
    "---\n",
    "## Exam vB, PROBLEM 3\n",
    "Maximum Points = 13"
   ]
  },
  {
   "attachments": {},
   "cell_type": "markdown",
   "id": "748f51f0",
   "metadata": {
    "deletable": false,
    "lx_assignment_number": "vB",
    "lx_assignment_type": "EXAM",
    "lx_assignment_type2print": "Exam",
    "lx_problem_cell_type": "PROBLEM",
    "lx_problem_number": "3",
    "lx_problem_points": "13"
   },
   "source": [
    "\n",
    "A healthcare organization is interested in understanding the relationship between the number of visits to the doctors office and certain patient characteristics. \n",
    "They have collected data on the number of visits for a sample of patients and have included the following variables\n",
    "\n",
    "* ofp : number of physician office visits\n",
    "* ofnp : number of nonphysician office visits\n",
    "* opp : number of physician outpatient visits\n",
    "* opnp : number of nonphysician outpatient visits\n",
    "* emr : number of emergency room visits\n",
    "* hosp : number of hospitalizations\n",
    "* exclhlth : the person is of excellent health (self-perceived)\n",
    "* poorhealth : the person is of poor health (self-perceived)\n",
    "* numchron : number of chronic conditions\n",
    "* adldiff : the person has a condition that limits activities of daily living ?\n",
    "* noreast : the person is from the north east region\n",
    "* midwest : the person is from the midwest region\n",
    "* west : the person is from the west region\n",
    "* age : age in years (divided by 10)\n",
    "* male : is the person male ?\n",
    "* married : is the person married ?\n",
    "* school : number of years of education\n",
    "* faminc : family income in 10000$\n",
    "* employed : is the person employed ?\n",
    "* privins : is the person covered by private health insurance?\n",
    "* medicaid : is the person covered by medicaid ?\n",
    "\n",
    "Decide which patient features are resonable to use to predict the target \"number of physician office visits\". Hint: should we really use the \"ofnp\" etc variables?\n",
    "\n",
    "Since the target variable is counts, a reasonable loss function is to consider the target variable as Poisson distributed where the parameter follows $\\lambda = \\exp(\\alpha \\cdot x + \\beta)$ where $\\alpha$ is a vector (slope) and $\\beta$ is a number (intercept). That is, the parameter is the exponential of a linear function. The reason we chose this as our parameter, is that it is always positive which is when the Poisson distribution is defined. To be specific we make the following assumption about our conditional density of $Y \\mid X$,\n",
    "$$\n",
    "    f_{Y \\mid X} (y,x) = \\frac{\\lambda^{y} e^{-\\lambda}}{y !}, \\quad \\lambda(x) = \\exp(\\alpha \\cdot x + \\beta).\n",
    "$$\n",
    "\n",
    "Recall from the lecture notes, (4.2) that in this case we should consider the log-loss (entropy) and that according to (4.2.1 Maximum Likelihood and regression) we can consider the conditional log-likelihood. Follow the steps of Example 1 and Example 2 in section (4.2) to derive the loss that needs to be minimized.\n",
    "\n",
    "Hint: when taking the log of the conditional density you will find that the term that contains the $y!$ does not depend on $\\lambda$ and as such does not depend on $\\alpha,\\beta$, it can thus be discarded. This will be essential due to numerical issues with factorials.\n",
    "\n",
    "Instructions:\n",
    "\n",
    "1. Load the file `data/visits_clean.csv` into the pandas dataframe `problem3_df`. Decide what should be features and target, give motivations for your choices. [3p]\n",
    "2. Create the `problem3_X` and the `problem3_y` as numpy arrays with `problem3_X` being the features and `problem3_y` being the target. Do the standard train-test split with 80% training data and 20% testing data. Store these in the variables defined in the cells. [3p]\n",
    "3. Implement $loss$ inside the class `PoissonRegression` by writing down the loss to be minimized, I have provided a formula for the $\\lambda$ that you can use. [2p]\n",
    "4. Now use the `PoissonRegression` class to train a Poisson regression model on the training data. [2p]\n",
    "5. Come up with a reasonable metric to evaluate your model on the test data, compute it and write down a justification of this. Also, interpret your result and compare it to something naive. [3p]\n"
   ]
  },
  {
   "cell_type": "code",
   "execution_count": 105,
   "id": "d71cb526",
   "metadata": {
    "deletable": false,
    "lx_assignment_number": "vB",
    "lx_assignment_type": "EXAM",
    "lx_assignment_type2print": "Exam",
    "lx_problem_cell_type": "PROBLEM",
    "lx_problem_number": "3",
    "lx_problem_points": "13"
   },
   "outputs": [
    {
     "data": {
      "text/html": [
       "<div>\n",
       "<style scoped>\n",
       "    .dataframe tbody tr th:only-of-type {\n",
       "        vertical-align: middle;\n",
       "    }\n",
       "\n",
       "    .dataframe tbody tr th {\n",
       "        vertical-align: top;\n",
       "    }\n",
       "\n",
       "    .dataframe thead th {\n",
       "        text-align: right;\n",
       "    }\n",
       "</style>\n",
       "<table border=\"1\" class=\"dataframe\">\n",
       "  <thead>\n",
       "    <tr style=\"text-align: right;\">\n",
       "      <th></th>\n",
       "      <th>ofp</th>\n",
       "      <th>ofnp</th>\n",
       "      <th>opp</th>\n",
       "      <th>opnp</th>\n",
       "      <th>emr</th>\n",
       "      <th>hosp</th>\n",
       "      <th>exclhlth</th>\n",
       "      <th>poorhlth</th>\n",
       "      <th>numchron</th>\n",
       "      <th>adldiff</th>\n",
       "      <th>...</th>\n",
       "      <th>midwest</th>\n",
       "      <th>west</th>\n",
       "      <th>age</th>\n",
       "      <th>male</th>\n",
       "      <th>married</th>\n",
       "      <th>school</th>\n",
       "      <th>faminc</th>\n",
       "      <th>employed</th>\n",
       "      <th>privins</th>\n",
       "      <th>medicaid</th>\n",
       "    </tr>\n",
       "  </thead>\n",
       "  <tbody>\n",
       "    <tr>\n",
       "      <th>0</th>\n",
       "      <td>5</td>\n",
       "      <td>0</td>\n",
       "      <td>0</td>\n",
       "      <td>0</td>\n",
       "      <td>0</td>\n",
       "      <td>1</td>\n",
       "      <td>0</td>\n",
       "      <td>0</td>\n",
       "      <td>2</td>\n",
       "      <td>0</td>\n",
       "      <td>...</td>\n",
       "      <td>0</td>\n",
       "      <td>0</td>\n",
       "      <td>6.9</td>\n",
       "      <td>1</td>\n",
       "      <td>1</td>\n",
       "      <td>6</td>\n",
       "      <td>2.8810</td>\n",
       "      <td>1</td>\n",
       "      <td>1</td>\n",
       "      <td>0</td>\n",
       "    </tr>\n",
       "    <tr>\n",
       "      <th>1</th>\n",
       "      <td>1</td>\n",
       "      <td>0</td>\n",
       "      <td>2</td>\n",
       "      <td>0</td>\n",
       "      <td>2</td>\n",
       "      <td>0</td>\n",
       "      <td>0</td>\n",
       "      <td>0</td>\n",
       "      <td>2</td>\n",
       "      <td>0</td>\n",
       "      <td>...</td>\n",
       "      <td>0</td>\n",
       "      <td>0</td>\n",
       "      <td>7.4</td>\n",
       "      <td>0</td>\n",
       "      <td>1</td>\n",
       "      <td>10</td>\n",
       "      <td>2.7478</td>\n",
       "      <td>0</td>\n",
       "      <td>1</td>\n",
       "      <td>0</td>\n",
       "    </tr>\n",
       "    <tr>\n",
       "      <th>2</th>\n",
       "      <td>13</td>\n",
       "      <td>0</td>\n",
       "      <td>0</td>\n",
       "      <td>0</td>\n",
       "      <td>3</td>\n",
       "      <td>3</td>\n",
       "      <td>0</td>\n",
       "      <td>1</td>\n",
       "      <td>4</td>\n",
       "      <td>1</td>\n",
       "      <td>...</td>\n",
       "      <td>0</td>\n",
       "      <td>0</td>\n",
       "      <td>6.6</td>\n",
       "      <td>0</td>\n",
       "      <td>0</td>\n",
       "      <td>10</td>\n",
       "      <td>0.6532</td>\n",
       "      <td>0</td>\n",
       "      <td>0</td>\n",
       "      <td>1</td>\n",
       "    </tr>\n",
       "    <tr>\n",
       "      <th>3</th>\n",
       "      <td>16</td>\n",
       "      <td>0</td>\n",
       "      <td>5</td>\n",
       "      <td>0</td>\n",
       "      <td>1</td>\n",
       "      <td>1</td>\n",
       "      <td>0</td>\n",
       "      <td>1</td>\n",
       "      <td>2</td>\n",
       "      <td>1</td>\n",
       "      <td>...</td>\n",
       "      <td>0</td>\n",
       "      <td>0</td>\n",
       "      <td>7.6</td>\n",
       "      <td>1</td>\n",
       "      <td>1</td>\n",
       "      <td>3</td>\n",
       "      <td>0.6588</td>\n",
       "      <td>0</td>\n",
       "      <td>1</td>\n",
       "      <td>0</td>\n",
       "    </tr>\n",
       "    <tr>\n",
       "      <th>4</th>\n",
       "      <td>3</td>\n",
       "      <td>0</td>\n",
       "      <td>0</td>\n",
       "      <td>0</td>\n",
       "      <td>0</td>\n",
       "      <td>0</td>\n",
       "      <td>0</td>\n",
       "      <td>0</td>\n",
       "      <td>2</td>\n",
       "      <td>1</td>\n",
       "      <td>...</td>\n",
       "      <td>0</td>\n",
       "      <td>0</td>\n",
       "      <td>7.9</td>\n",
       "      <td>0</td>\n",
       "      <td>1</td>\n",
       "      <td>6</td>\n",
       "      <td>0.6588</td>\n",
       "      <td>0</td>\n",
       "      <td>1</td>\n",
       "      <td>0</td>\n",
       "    </tr>\n",
       "  </tbody>\n",
       "</table>\n",
       "<p>5 rows × 21 columns</p>\n",
       "</div>"
      ],
      "text/plain": [
       "   ofp  ofnp  opp  opnp  emr  hosp  exclhlth  poorhlth  numchron  adldiff  \\\n",
       "0    5     0    0     0    0     1         0         0         2        0   \n",
       "1    1     0    2     0    2     0         0         0         2        0   \n",
       "2   13     0    0     0    3     3         0         1         4        1   \n",
       "3   16     0    5     0    1     1         0         1         2        1   \n",
       "4    3     0    0     0    0     0         0         0         2        1   \n",
       "\n",
       "   ...  midwest  west  age  male  married  school  faminc  employed  privins  \\\n",
       "0  ...        0     0  6.9     1        1       6  2.8810         1        1   \n",
       "1  ...        0     0  7.4     0        1      10  2.7478         0        1   \n",
       "2  ...        0     0  6.6     0        0      10  0.6532         0        0   \n",
       "3  ...        0     0  7.6     1        1       3  0.6588         0        1   \n",
       "4  ...        0     0  7.9     0        1       6  0.6588         0        1   \n",
       "\n",
       "   medicaid  \n",
       "0         0  \n",
       "1         0  \n",
       "2         1  \n",
       "3         0  \n",
       "4         0  \n",
       "\n",
       "[5 rows x 21 columns]"
      ]
     },
     "execution_count": 105,
     "metadata": {},
     "output_type": "execute_result"
    }
   ],
   "source": [
    "# Part 1\n",
    "\n",
    "# Let problem3_df be the pandas dataframe that contains the data from the file\n",
    "# data/visits_clean.csv\n",
    "problem3_df = pd.read_csv(\"visits_clean.csv\", sep = ' ')\n",
    "\n",
    "problem3_df.head()"
   ]
  },
  {
   "cell_type": "code",
   "execution_count": 115,
   "id": "e9674f37",
   "metadata": {
    "deletable": false,
    "lx_assignment_number": "vB",
    "lx_assignment_type": "EXAM",
    "lx_assignment_type2print": "Exam",
    "lx_problem_cell_type": "PROBLEM",
    "lx_problem_number": "3",
    "lx_problem_points": "13"
   },
   "outputs": [],
   "source": [
    "# Part 1\n",
    "\n",
    "# Fill in the features as a list of strings of the names of the columns\n",
    "\n",
    "problem3_features = list(problem3_df.columns)\n",
    "\n",
    "problem3_features = list(filter(lambda x: x not in ['ofp', 'ofnp', 'opp', 'opnp', 'emr'], problem3_features))\n",
    "\n",
    "# Fill in the target as a string with the correct column name\n",
    "\n",
    "problem3_target = \"ofp\""
   ]
  },
  {
   "cell_type": "code",
   "execution_count": 114,
   "id": "801df916",
   "metadata": {},
   "outputs": [
    {
     "data": {
      "text/plain": [
       "['hosp',\n",
       " 'exclhlth',\n",
       " 'poorhlth',\n",
       " 'numchron',\n",
       " 'adldiff',\n",
       " 'noreast',\n",
       " 'midwest',\n",
       " 'west',\n",
       " 'age',\n",
       " 'male',\n",
       " 'married',\n",
       " 'school',\n",
       " 'faminc',\n",
       " 'employed',\n",
       " 'privins',\n",
       " 'medicaid']"
      ]
     },
     "execution_count": 114,
     "metadata": {},
     "output_type": "execute_result"
    }
   ],
   "source": [
    "problem3_features"
   ]
  },
  {
   "attachments": {},
   "cell_type": "markdown",
   "id": "263a3bee",
   "metadata": {
    "deletable": false,
    "lx_assignment_number": "vB",
    "lx_assignment_type": "EXAM",
    "lx_assignment_type2print": "Exam",
    "lx_problem_cell_type": "PROBLEM",
    "lx_problem_number": "3",
    "lx_problem_points": "13"
   },
   "source": [
    "\n",
    "## Part 1\n",
    "\n",
    "Double click this cell to enter edit mode and write your answer for part 1 below this line.\n",
    "\n",
    "#### What features are reasonable?\n",
    "\n",
    "#### In regards to how much data we have, how many features do you think we should aim for?\n",
    "\n",
    "#### What other features would you like to have used but was not collected?\n",
    "\n",
    "#### Discussion\n"
   ]
  },
  {
   "cell_type": "code",
   "execution_count": 130,
   "id": "0d00cab8",
   "metadata": {
    "deletable": false,
    "lx_assignment_number": "vB",
    "lx_assignment_type": "EXAM",
    "lx_assignment_type2print": "Exam",
    "lx_problem_cell_type": "PROBLEM",
    "lx_problem_number": "3",
    "lx_problem_points": "13"
   },
   "outputs": [
    {
     "data": {
      "text/html": [
       "<div>\n",
       "<style scoped>\n",
       "    .dataframe tbody tr th:only-of-type {\n",
       "        vertical-align: middle;\n",
       "    }\n",
       "\n",
       "    .dataframe tbody tr th {\n",
       "        vertical-align: top;\n",
       "    }\n",
       "\n",
       "    .dataframe thead th {\n",
       "        text-align: right;\n",
       "    }\n",
       "</style>\n",
       "<table border=\"1\" class=\"dataframe\">\n",
       "  <thead>\n",
       "    <tr style=\"text-align: right;\">\n",
       "      <th></th>\n",
       "      <th>hosp</th>\n",
       "      <th>exclhlth</th>\n",
       "      <th>poorhlth</th>\n",
       "      <th>numchron</th>\n",
       "      <th>adldiff</th>\n",
       "      <th>noreast</th>\n",
       "      <th>midwest</th>\n",
       "      <th>west</th>\n",
       "      <th>age</th>\n",
       "      <th>male</th>\n",
       "      <th>married</th>\n",
       "      <th>school</th>\n",
       "      <th>faminc</th>\n",
       "      <th>employed</th>\n",
       "      <th>privins</th>\n",
       "      <th>medicaid</th>\n",
       "    </tr>\n",
       "  </thead>\n",
       "  <tbody>\n",
       "    <tr>\n",
       "      <th>4335</th>\n",
       "      <td>1</td>\n",
       "      <td>0</td>\n",
       "      <td>1</td>\n",
       "      <td>5</td>\n",
       "      <td>1</td>\n",
       "      <td>0</td>\n",
       "      <td>0</td>\n",
       "      <td>0</td>\n",
       "      <td>8.1</td>\n",
       "      <td>1</td>\n",
       "      <td>1</td>\n",
       "      <td>6</td>\n",
       "      <td>0.662400</td>\n",
       "      <td>0</td>\n",
       "      <td>0</td>\n",
       "      <td>1</td>\n",
       "    </tr>\n",
       "    <tr>\n",
       "      <th>3052</th>\n",
       "      <td>0</td>\n",
       "      <td>1</td>\n",
       "      <td>0</td>\n",
       "      <td>3</td>\n",
       "      <td>0</td>\n",
       "      <td>0</td>\n",
       "      <td>1</td>\n",
       "      <td>0</td>\n",
       "      <td>7.5</td>\n",
       "      <td>0</td>\n",
       "      <td>0</td>\n",
       "      <td>4</td>\n",
       "      <td>1.059500</td>\n",
       "      <td>0</td>\n",
       "      <td>1</td>\n",
       "      <td>0</td>\n",
       "    </tr>\n",
       "    <tr>\n",
       "      <th>3527</th>\n",
       "      <td>0</td>\n",
       "      <td>0</td>\n",
       "      <td>0</td>\n",
       "      <td>1</td>\n",
       "      <td>0</td>\n",
       "      <td>0</td>\n",
       "      <td>1</td>\n",
       "      <td>0</td>\n",
       "      <td>7.3</td>\n",
       "      <td>1</td>\n",
       "      <td>1</td>\n",
       "      <td>7</td>\n",
       "      <td>1.564400</td>\n",
       "      <td>0</td>\n",
       "      <td>0</td>\n",
       "      <td>0</td>\n",
       "    </tr>\n",
       "    <tr>\n",
       "      <th>1448</th>\n",
       "      <td>0</td>\n",
       "      <td>0</td>\n",
       "      <td>0</td>\n",
       "      <td>2</td>\n",
       "      <td>0</td>\n",
       "      <td>0</td>\n",
       "      <td>1</td>\n",
       "      <td>0</td>\n",
       "      <td>6.7</td>\n",
       "      <td>0</td>\n",
       "      <td>1</td>\n",
       "      <td>8</td>\n",
       "      <td>1.200000</td>\n",
       "      <td>0</td>\n",
       "      <td>1</td>\n",
       "      <td>0</td>\n",
       "    </tr>\n",
       "    <tr>\n",
       "      <th>1749</th>\n",
       "      <td>0</td>\n",
       "      <td>0</td>\n",
       "      <td>0</td>\n",
       "      <td>2</td>\n",
       "      <td>0</td>\n",
       "      <td>0</td>\n",
       "      <td>1</td>\n",
       "      <td>0</td>\n",
       "      <td>7.0</td>\n",
       "      <td>1</td>\n",
       "      <td>1</td>\n",
       "      <td>12</td>\n",
       "      <td>1.595631</td>\n",
       "      <td>0</td>\n",
       "      <td>1</td>\n",
       "      <td>0</td>\n",
       "    </tr>\n",
       "    <tr>\n",
       "      <th>...</th>\n",
       "      <td>...</td>\n",
       "      <td>...</td>\n",
       "      <td>...</td>\n",
       "      <td>...</td>\n",
       "      <td>...</td>\n",
       "      <td>...</td>\n",
       "      <td>...</td>\n",
       "      <td>...</td>\n",
       "      <td>...</td>\n",
       "      <td>...</td>\n",
       "      <td>...</td>\n",
       "      <td>...</td>\n",
       "      <td>...</td>\n",
       "      <td>...</td>\n",
       "      <td>...</td>\n",
       "      <td>...</td>\n",
       "    </tr>\n",
       "    <tr>\n",
       "      <th>3444</th>\n",
       "      <td>1</td>\n",
       "      <td>0</td>\n",
       "      <td>0</td>\n",
       "      <td>1</td>\n",
       "      <td>1</td>\n",
       "      <td>0</td>\n",
       "      <td>0</td>\n",
       "      <td>1</td>\n",
       "      <td>8.0</td>\n",
       "      <td>0</td>\n",
       "      <td>0</td>\n",
       "      <td>12</td>\n",
       "      <td>0.873100</td>\n",
       "      <td>0</td>\n",
       "      <td>1</td>\n",
       "      <td>0</td>\n",
       "    </tr>\n",
       "    <tr>\n",
       "      <th>466</th>\n",
       "      <td>0</td>\n",
       "      <td>0</td>\n",
       "      <td>0</td>\n",
       "      <td>2</td>\n",
       "      <td>0</td>\n",
       "      <td>0</td>\n",
       "      <td>0</td>\n",
       "      <td>0</td>\n",
       "      <td>7.1</td>\n",
       "      <td>0</td>\n",
       "      <td>1</td>\n",
       "      <td>12</td>\n",
       "      <td>3.326200</td>\n",
       "      <td>0</td>\n",
       "      <td>1</td>\n",
       "      <td>0</td>\n",
       "    </tr>\n",
       "    <tr>\n",
       "      <th>3092</th>\n",
       "      <td>0</td>\n",
       "      <td>0</td>\n",
       "      <td>0</td>\n",
       "      <td>2</td>\n",
       "      <td>0</td>\n",
       "      <td>0</td>\n",
       "      <td>1</td>\n",
       "      <td>0</td>\n",
       "      <td>8.1</td>\n",
       "      <td>1</td>\n",
       "      <td>1</td>\n",
       "      <td>13</td>\n",
       "      <td>1.154400</td>\n",
       "      <td>0</td>\n",
       "      <td>0</td>\n",
       "      <td>0</td>\n",
       "    </tr>\n",
       "    <tr>\n",
       "      <th>3772</th>\n",
       "      <td>4</td>\n",
       "      <td>0</td>\n",
       "      <td>1</td>\n",
       "      <td>3</td>\n",
       "      <td>0</td>\n",
       "      <td>0</td>\n",
       "      <td>1</td>\n",
       "      <td>0</td>\n",
       "      <td>7.7</td>\n",
       "      <td>1</td>\n",
       "      <td>1</td>\n",
       "      <td>12</td>\n",
       "      <td>1.432600</td>\n",
       "      <td>0</td>\n",
       "      <td>1</td>\n",
       "      <td>0</td>\n",
       "    </tr>\n",
       "    <tr>\n",
       "      <th>860</th>\n",
       "      <td>0</td>\n",
       "      <td>0</td>\n",
       "      <td>0</td>\n",
       "      <td>1</td>\n",
       "      <td>0</td>\n",
       "      <td>0</td>\n",
       "      <td>0</td>\n",
       "      <td>0</td>\n",
       "      <td>7.7</td>\n",
       "      <td>1</td>\n",
       "      <td>1</td>\n",
       "      <td>8</td>\n",
       "      <td>0.686000</td>\n",
       "      <td>0</td>\n",
       "      <td>1</td>\n",
       "      <td>0</td>\n",
       "    </tr>\n",
       "  </tbody>\n",
       "</table>\n",
       "<p>3524 rows × 16 columns</p>\n",
       "</div>"
      ],
      "text/plain": [
       "      hosp  exclhlth  poorhlth  numchron  adldiff  noreast  midwest  west  \\\n",
       "4335     1         0         1         5        1        0        0     0   \n",
       "3052     0         1         0         3        0        0        1     0   \n",
       "3527     0         0         0         1        0        0        1     0   \n",
       "1448     0         0         0         2        0        0        1     0   \n",
       "1749     0         0         0         2        0        0        1     0   \n",
       "...    ...       ...       ...       ...      ...      ...      ...   ...   \n",
       "3444     1         0         0         1        1        0        0     1   \n",
       "466      0         0         0         2        0        0        0     0   \n",
       "3092     0         0         0         2        0        0        1     0   \n",
       "3772     4         0         1         3        0        0        1     0   \n",
       "860      0         0         0         1        0        0        0     0   \n",
       "\n",
       "      age  male  married  school    faminc  employed  privins  medicaid  \n",
       "4335  8.1     1        1       6  0.662400         0        0         1  \n",
       "3052  7.5     0        0       4  1.059500         0        1         0  \n",
       "3527  7.3     1        1       7  1.564400         0        0         0  \n",
       "1448  6.7     0        1       8  1.200000         0        1         0  \n",
       "1749  7.0     1        1      12  1.595631         0        1         0  \n",
       "...   ...   ...      ...     ...       ...       ...      ...       ...  \n",
       "3444  8.0     0        0      12  0.873100         0        1         0  \n",
       "466   7.1     0        1      12  3.326200         0        1         0  \n",
       "3092  8.1     1        1      13  1.154400         0        0         0  \n",
       "3772  7.7     1        1      12  1.432600         0        1         0  \n",
       "860   7.7     1        1       8  0.686000         0        1         0  \n",
       "\n",
       "[3524 rows x 16 columns]"
      ]
     },
     "execution_count": 130,
     "metadata": {},
     "output_type": "execute_result"
    }
   ],
   "source": [
    "# Part 2\n",
    "\n",
    "# Fill in your X and y below\n",
    "problem3_X = problem3_df[problem3_features]\n",
    "problem3_y = y = problem3_df[problem3_target]\n",
    "\n",
    "\n",
    "\n",
    "# Split the data into train and test using train_test_split\n",
    "# keep the train size as 0.8 and use random_state=42\n",
    "problem3_X_train,problem3_X_test,problem3_y_train,problem3_y_test = train_test_split(problem3_X, problem3_y, test_size=0.2, random_state=42)\n",
    "\n",
    "\n",
    "\n",
    "# enocde categorical data\n",
    "problem3_X_train, problem3_X_test = one_hot_encode(problem3_X_train, problem3_X_test)\n",
    "\n",
    "problem3_X_train"
   ]
  },
  {
   "cell_type": "code",
   "execution_count": 237,
   "id": "68e8c054",
   "metadata": {
    "deletable": false,
    "lx_assignment_number": "vB",
    "lx_assignment_type": "EXAM",
    "lx_assignment_type2print": "Exam",
    "lx_problem_cell_type": "PROBLEM",
    "lx_problem_number": "3",
    "lx_problem_points": "13"
   },
   "outputs": [],
   "source": [
    "# Part 3\n",
    "\n",
    "# Fill in the function loss below\n",
    "\n",
    "class PoissonRegression(object):\n",
    "    def __init__(self):\n",
    "        self.coeffs = None\n",
    "        self.result = None\n",
    "    \n",
    "    def fit(self,X,Y):\n",
    "        import numpy as np\n",
    "        from scipy import optimize\n",
    "\n",
    "        # define the objective/cost/loss function we want to minimize\n",
    "        def loss(coeffs):\n",
    "            # The parameter lambda for the given X and the proposed values \n",
    "            # of the coefficients, here coeff[:-1] represent alpha \n",
    "            # and coeff[-1] represent beta\n",
    "            lam = np.exp(np.dot(X,coeffs[:-1])+coeffs[-1])\n",
    "\n",
    "            # use the Y variable that is available here to definr \n",
    "            # this Y and for this parameter lam defined above\n",
    "            loss_pr = - np.sum((np.subtract(np.multiply(Y, np.log(lam)), lam))) #+ np.log(factorial(y)) don't need the factorial\n",
    "            \n",
    "            return loss_pr\n",
    "\n",
    "        #Use the loss above together with an optimization method from scipy\n",
    "        #to find the coefficients of the model\n",
    "        #this is prepared for you below\n",
    "\n",
    "        initial_arguments = np.zeros(shape=X.shape[1]+1) # initial guess as 0\n",
    "        self.result = optimize.minimize(loss, initial_arguments,method='cg')\n",
    "        self.coeffs = self.result.x\n",
    "    \n",
    "    def predict(self,X):\n",
    "        #Use the trained model to predict Y\n",
    "        if (self.coeffs is not None):\n",
    "            return np.exp(np.dot(X,self.coeffs[:-1])+self.coeffs[-1])"
   ]
  },
  {
   "cell_type": "code",
   "execution_count": 238,
   "id": "2e713dd9",
   "metadata": {
    "deletable": false,
    "lx_assignment_number": "vB",
    "lx_assignment_type": "EXAM",
    "lx_assignment_type2print": "Exam",
    "lx_problem_cell_type": "PROBLEM",
    "lx_problem_number": "3",
    "lx_problem_points": "13"
   },
   "outputs": [],
   "source": [
    "# Part 4\n",
    "\n",
    "# Initialize your PoissonRegression model\n",
    "problem3_model = PoissonRegression()\n",
    "\n",
    "# Fit your initialized model on the training data\n",
    "problem3_model.fit(problem3_X_train, list(problem3_y_train))"
   ]
  },
  {
   "cell_type": "code",
   "execution_count": 239,
   "id": "cc7f3bb3",
   "metadata": {},
   "outputs": [
    {
     "name": "stdout",
     "output_type": "stream",
     "text": [
      " message: Desired error not necessarily achieved due to precision loss.\n",
      " success: False\n",
      "  status: 2\n",
      "     fun: -16526.94251471108\n",
      "       x: [ 1.590e-01 -3.762e-01 ...  2.654e-01  1.334e+00]\n",
      "     nit: 650\n",
      "     jac: [ 4.883e-04  4.883e-04 ...  1.709e-03 -8.301e-03]\n",
      "    nfev: 25318\n",
      "    njev: 1406\n"
     ]
    }
   ],
   "source": [
    "# This is to make sure that everything went well, \n",
    "# check that success is True\n",
    "print(problem3_model.result)\n"
   ]
  },
  {
   "cell_type": "code",
   "execution_count": 242,
   "id": "29098ee1",
   "metadata": {},
   "outputs": [
    {
     "name": "stdout",
     "output_type": "stream",
     "text": [
      "43.84914264628704\n"
     ]
    }
   ],
   "source": [
    "from sklearn.metrics import mean_squared_error\n",
    "\n",
    "y_pred = problem3_model.predict(problem3_X_test)\n",
    "\n",
    "print(mean_squared_error(y_pred, problem3_y_test))"
   ]
  },
  {
   "cell_type": "code",
   "execution_count": 243,
   "id": "d9cbad4d",
   "metadata": {},
   "outputs": [
    {
     "data": {
      "text/plain": [
       "array([ 0.1590459 , -0.37616595,  0.21859808,  0.13525813,  0.05454449,\n",
       "        0.06852145, -0.01984601,  0.13604719, -0.05956945, -0.08173833,\n",
       "       -0.06011868,  0.02833897, -0.00391595,  0.07485539,  0.30803992,\n",
       "        0.26540872,  1.33363903])"
      ]
     },
     "execution_count": 243,
     "metadata": {},
     "output_type": "execute_result"
    }
   ],
   "source": [
    "problem3_model.coeffs"
   ]
  },
  {
   "cell_type": "code",
   "execution_count": null,
   "id": "e4036ed4",
   "metadata": {
    "deletable": false,
    "lx_assignment_number": "vB",
    "lx_assignment_type": "EXAM",
    "lx_assignment_type2print": "Exam",
    "lx_problem_cell_type": "PROBLEM",
    "lx_problem_number": "3",
    "lx_problem_points": "13"
   },
   "outputs": [],
   "source": [
    "# Part 5\n"
   ]
  },
  {
   "attachments": {},
   "cell_type": "markdown",
   "id": "9efd042d",
   "metadata": {
    "deletable": false,
    "lx_assignment_number": "vB",
    "lx_assignment_type": "EXAM",
    "lx_assignment_type2print": "Exam",
    "lx_problem_cell_type": "PROBLEM",
    "lx_problem_number": "3",
    "lx_problem_points": "13"
   },
   "source": [
    "\n",
    "## Part 5\n",
    "\n",
    "Double click this cell to enter edit mode and write your answer for part 5 below this line.\n",
    "\n",
    "#### Discussion on reasonable metrics and discussion about the value of the metric\n",
    "\n",
    "#### Comparison with a naive model\n"
   ]
  }
 ],
 "metadata": {
  "kernelspec": {
   "display_name": "Python 3",
   "language": "python",
   "name": "python3"
  },
  "language_info": {
   "codemirror_mode": {
    "name": "ipython",
    "version": 3
   },
   "file_extension": ".py",
   "mimetype": "text/x-python",
   "name": "python",
   "nbconvert_exporter": "python",
   "pygments_lexer": "ipython3",
   "version": "3.11.2"
  },
  "lx_assignment_number": "vB",
  "lx_course_instance": "2022",
  "lx_course_name": "Introduction to Data Science",
  "lx_course_number": "1MS041"
 },
 "nbformat": 4,
 "nbformat_minor": 5
}
