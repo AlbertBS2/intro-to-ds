{
 "cells": [
  {
   "cell_type": "markdown",
   "metadata": {},
   "source": [
    "## Exam vB, PROBLEM 2"
   ]
  },
  {
   "cell_type": "markdown",
   "metadata": {},
   "source": [
    "### 1.9 Random variable generation and transformation"
   ]
  },
  {
   "cell_type": "code",
   "execution_count": 1,
   "metadata": {},
   "outputs": [],
   "source": [
    "import math\n",
    "\n",
    "def problem2_LCG(size=None, seed=0):\n",
    "    \"\"\"\n",
    "    A linear congruential generator that generates pseudo-random numbers according to size.\n",
    "\n",
    "    Parameters\n",
    "    -------------\n",
    "    size : an integer denoting how many samples should be produced\n",
    "    seed : the starting point of the LCG, i.e., u0 in the notes.\n",
    "\n",
    "    Returns\n",
    "    -------------\n",
    "    out : a list of the pseudo-random numbers\n",
    "    \"\"\"\n",
    "    # Parameters for the LCG (chosen to satisfy Hull-Dobell Theorem)\n",
    "    M = 2**31 - 1  # A large prime number\n",
    "    a = 1103515245  # Multiplier\n",
    "    b = 12345       # Increment\n",
    "\n",
    "    # Initialize variables\n",
    "    u = seed\n",
    "    random_numbers = []\n",
    "\n",
    "    # Generate random numbers\n",
    "    for _ in range(size):\n",
    "        u = (a * u + b) % M\n",
    "        random_numbers.append(u / M)\n",
    "\n",
    "    return random_numbers"
   ]
  },
  {
   "cell_type": "code",
   "execution_count": 2,
   "metadata": {},
   "outputs": [],
   "source": [
    "def problem2_uniform(generator=None, period=1, size=None, seed=0):\n",
    "    \"\"\"\n",
    "    Takes a generator and produces samples from the uniform [0,1] distribution according to size.\n",
    "\n",
    "    Parameters\n",
    "    -------------\n",
    "    generator : a function of type generator(size, seed) and produces the same result as problem2_LCG,\n",
    "                i.e., pseudo-random numbers in the range {0, 1, ..., period-1}\n",
    "    period : the period of the generator\n",
    "    seed : the seed to be used in the generator provided\n",
    "    size : an integer denoting how many samples should be produced\n",
    "\n",
    "    Returns\n",
    "    --------------\n",
    "    out : a list of the uniform pseudo-random numbers\n",
    "    \"\"\"\n",
    "    # Use the provided generator to produce raw random numbers\n",
    "    raw_numbers = generator(size=size, seed=seed)\n",
    "\n",
    "    # Normalize the numbers to [0, 1]\n",
    "    uniform_numbers = [x / period for x in raw_numbers]\n",
    "\n",
    "    return uniform_numbers"
   ]
  },
  {
   "cell_type": "code",
   "execution_count": 3,
   "metadata": {},
   "outputs": [],
   "source": [
    "def problem2_accept_reject(uniformGenerator=None, size=None, seed=0):\n",
    "    \"\"\"\n",
    "    Takes a generator that produces uniform pseudo-random [0,1] numbers\n",
    "    and produces samples from (pi/2)*abs(sin(x*2*pi)) using an Accept-Reject\n",
    "    sampler with the uniform distribution as the proposal distribution.\n",
    "\n",
    "    Parameters\n",
    "    -------------\n",
    "    uniformGenerator : a function of the type generator(size, seed) that produces uniform pseudo-random\n",
    "                       numbers from [0, 1]\n",
    "    seed : the seed to be used in the generator provided\n",
    "    size : an integer denoting how many samples should be produced\n",
    "\n",
    "    Returns\n",
    "    --------------\n",
    "    out : a list of the pseudo-random numbers with the specified distribution\n",
    "    \"\"\"\n",
    "    # Set up parameters\n",
    "    c = math.pi / 2  # Constant for scaling\n",
    "    generated_samples = []\n",
    "    \n",
    "    # Initialize the seed for reproducibility\n",
    "    current_seed = seed\n",
    "\n",
    "    while len(generated_samples) < size:\n",
    "        # Generate two uniform random numbers\n",
    "        u1, u2 = uniformGenerator(size=2, seed=current_seed)\n",
    "        current_seed += 1  # Update the seed for reproducibility\n",
    "\n",
    "        # Proposal sample\n",
    "        x = u1\n",
    "\n",
    "        # Acceptance condition\n",
    "        if u2 <= c * abs(math.sin(2 * math.pi * x)):\n",
    "            generated_samples.append(x)\n",
    "\n",
    "    return generated_samples"
   ]
  }
 ],
 "metadata": {
  "kernelspec": {
   "display_name": "Python 3",
   "language": "python",
   "name": "python3"
  },
  "language_info": {
   "codemirror_mode": {
    "name": "ipython",
    "version": 3
   },
   "file_extension": ".py",
   "mimetype": "text/x-python",
   "name": "python",
   "nbconvert_exporter": "python",
   "pygments_lexer": "ipython3",
   "version": "3.11.2"
  }
 },
 "nbformat": 4,
 "nbformat_minor": 2
}
